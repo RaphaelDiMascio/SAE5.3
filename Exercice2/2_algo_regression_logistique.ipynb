{
 "cells": [
  {
   "cell_type": "markdown",
   "source": [
    "## Librairies"
   ],
   "metadata": {
    "collapsed": false
   },
   "id": "6660bbecec0398e"
  },
  {
   "cell_type": "code",
   "outputs": [],
   "source": [
    "import pickle\n",
    "import cv2\n",
    "from sklearn.linear_model import LogisticRegression"
   ],
   "metadata": {
    "collapsed": true
   },
   "id": "initial_id",
   "execution_count": null
  },
  {
   "cell_type": "markdown",
   "source": [
    "## Algorithme"
   ],
   "metadata": {
    "collapsed": false
   },
   "id": "dee37de9ddcdbf53"
  },
  {
   "cell_type": "code",
   "outputs": [],
   "source": [
    "with open('../data/visages.pkl', 'rb') as fh:\n",
    "    visages = pickle.load(fh)\n",
    "\n",
    "with open('../data/noms.pkl', 'rb') as fh:\n",
    "    noms = pickle.load(fh)\n",
    "\n",
    "print('Shape of visages matrix --> ', visages.shape)"
   ],
   "metadata": {
    "collapsed": false
   },
   "id": "9e22a1dde8e6b2f1",
   "execution_count": null
  },
  {
   "cell_type": "code",
   "outputs": [],
   "source": [
    "# Attention, pour l'algorithme k-NN, les images doivent être applaties (flattened) en dimension 1\n",
    "N = len(noms)\n",
    "\n",
    "visages = visages.reshape(N, -1)\n",
    "\n",
    "lr = LogisticRegression(solver='lbfgs')\n",
    "lr.fit(visages, noms)"
   ],
   "metadata": {
    "collapsed": false
   },
   "id": "f153efdc72781c4e",
   "execution_count": null
  },
  {
   "cell_type": "markdown",
   "source": [
    "## Exécution"
   ],
   "metadata": {
    "collapsed": false
   },
   "id": "83489db48c8bc6ff"
  },
  {
   "cell_type": "code",
   "outputs": [],
   "source": [
    "cascade_visage = cv2.CascadeClassifier(cv2.data.haarcascades + 'haarcascade_frontalface_default.xml')\n",
    "\n",
    "camera = cv2.VideoCapture(0) # 0 pour 'built-in' caméra, 1 pour caméra externe\n",
    "\n",
    "while True:\n",
    "    \n",
    "    ret, trame = camera.read()\n",
    "    if ret == True:\n",
    "        \n",
    "        gris = cv2.cvtColor(trame, cv2.COLOR_BGR2GRAY)\n",
    "        coordonnees_visage = cascade_visage.detectMultiScale(gris, 1.3, 5)\n",
    "\n",
    "        for (x, y, l, h) in coordonnees_visage:\n",
    "            \n",
    "            visage = trame[y:y + h, x:x + l, :]\n",
    "            visage_redimensionne = cv2.resize(visage, (50, 50)).flatten().reshape(1,-1)\n",
    "            \n",
    "            texte = lr.predict(visage_redimensionne)\n",
    "            \n",
    "            cv2.putText(trame, texte[0], (x, y-10), cv2.FONT_HERSHEY_SIMPLEX, 1, (255, 255, 0), 2)\n",
    "            cv2.rectangle(trame, (x, y), (x + l, y + l), (0, 0, 255), 2)\n",
    "\n",
    "        cv2.imshow('Reconnaissance faciale en temps réel', trame)\n",
    "        \n",
    "        if cv2.waitKey(1) == 27:\n",
    "            break\n",
    "            \n",
    "    else:\n",
    "        print(\"erreur\")\n",
    "        break\n",
    "\n",
    "cv2.destroyAllWindows()\n",
    "camera.release()"
   ],
   "metadata": {
    "collapsed": false
   },
   "id": "b1622ee6e4cf8c35",
   "execution_count": null
  },
  {
   "cell_type": "code",
   "outputs": [],
   "source": [],
   "metadata": {
    "collapsed": false
   },
   "id": "c6454439fb29436a",
   "execution_count": null
  }
 ],
 "metadata": {
  "kernelspec": {
   "display_name": "Python 3",
   "language": "python",
   "name": "python3"
  },
  "language_info": {
   "codemirror_mode": {
    "name": "ipython",
    "version": 2
   },
   "file_extension": ".py",
   "mimetype": "text/x-python",
   "name": "python",
   "nbconvert_exporter": "python",
   "pygments_lexer": "ipython2",
   "version": "2.7.6"
  }
 },
 "nbformat": 4,
 "nbformat_minor": 5
}
