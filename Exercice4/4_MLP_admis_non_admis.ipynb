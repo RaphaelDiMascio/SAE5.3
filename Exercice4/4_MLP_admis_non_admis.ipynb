{
 "cells": [
  {
   "cell_type": "markdown",
   "source": [
    "## Consigne 4 avec un multilayer Perceptron sklearn\n",
    "\n",
    "Détection de visages\n"
   ],
   "metadata": {
    "collapsed": false
   },
   "id": "2c7940a1af67b50a"
  },
  {
   "cell_type": "markdown",
   "source": [
    "## Librairies"
   ],
   "metadata": {
    "collapsed": false
   },
   "id": "99a80ea71e5e65ff"
  },
  {
   "cell_type": "code",
   "outputs": [],
   "source": [
    "import pickle\n",
    "import cv2\n",
    "import time\n",
    "from sklearn.neural_network import MLPClassifier\n",
    "from sklearn.utils import shuffle"
   ],
   "metadata": {
    "collapsed": true
   },
   "id": "initial_id",
   "execution_count": null
  },
  {
   "cell_type": "code",
   "outputs": [],
   "source": [
    "## Algorithme"
   ],
   "metadata": {
    "collapsed": false
   },
   "id": "bf3dc0970cf6596e"
  },
  {
   "cell_type": "code",
   "outputs": [],
   "source": [
    "with open('../data/visages.pkl', 'rb') as fh:\n",
    "    visages = pickle.load(fh)\n",
    "\n",
    "with open('../data/noms.pkl', 'rb') as fh:\n",
    "    noms = pickle.load(fh)\n",
    "\n",
    "print('Shape of visages matrix --> ', visages.shape)"
   ],
   "metadata": {
    "collapsed": false
   },
   "id": "eeb95a45c23b2f34",
   "execution_count": null
  },
  {
   "cell_type": "code",
   "outputs": [],
   "source": [
    "N = len(noms)\n",
    "\n",
    "# ici on mélange les données des visages du dataset afin que l'entrainement soit homogène\n",
    "visages = visages.reshape(N, -1)\n",
    "visages = shuffle(visages, random_state = 42)\n",
    "noms = shuffle(noms, random_state = 42)\n",
    "\n",
    "MLP = MLPClassifier(hidden_layer_sizes=(100, 80, 60, 40, 20), solver='lbfgs')\n",
    "\n",
    "# entrainement du modèle\n",
    "MLP.fit(visages, noms)"
   ],
   "metadata": {
    "collapsed": false
   },
   "id": "40d87fe201639349",
   "execution_count": null
  },
  {
   "cell_type": "markdown",
   "source": [
    "## Exécution"
   ],
   "metadata": {
    "collapsed": false
   },
   "id": "3856070e12ca7ca3"
  },
  {
   "cell_type": "code",
   "outputs": [],
   "source": [
    "cascade_visage = cv2.CascadeClassifier(cv2.data.haarcascades + 'haarcascade_frontalface_default.xml')\n",
    "\n",
    "camera = cv2.VideoCapture(0) # 0 pour 'built-in' caméra, 1 pour caméra externe\n",
    "\n",
    "visage_admis = \"Raphael\" # Label du visage admis souhaité\n",
    "bal = 0 # Balise permettant de mettre fin au programme une fois le visage souhaité détecté\n",
    "tmp = 0 # nombre de frame (grossièrement le 'temps') devant détecté le visage souhaité pour considérer que l'on est \"Admis\" \n",
    "\n",
    "while True:\n",
    "    ret, trame = camera.read()\n",
    "    if ret == True:\n",
    "        gris = cv2.cvtColor(trame, cv2.COLOR_BGR2GRAY)\n",
    "        coordonnees_visage = cascade_visage.detectMultiScale(gris, 1.3, 5)\n",
    "\n",
    "        for (x, y, l, h) in coordonnees_visage:\n",
    "            \n",
    "            visage = trame[y:y + h, x:x + l, :]\n",
    "            visage_redimensionne = cv2.resize(visage, (50, 50)).flatten().reshape(1,-1)\n",
    "            \n",
    "            texte = MLP.predict(visage_redimensionne)\n",
    "            \n",
    "            #cv2.putText(trame, texte[0], (x, y-10), cv2.FONT_HERSHEY_SIMPLEX, 1, (255, 255, 0), 2)\n",
    "            cv2.rectangle(trame, (x, y), (x + l, y + l), (0, 0, 255), 2)\n",
    "            \n",
    "            #print(tmp)\n",
    "            if texte[0] == visage_admis and tmp == 40:\n",
    "                cv2.putText(trame, \"Admis\", (x, y-10), cv2.FONT_HERSHEY_SIMPLEX, 1, (255, 255, 0), 2)\n",
    "                time.sleep(2.0)\n",
    "                print(\"Admis\")\n",
    "                bal = 1\n",
    "                break\n",
    "            elif texte[0] == visage_admis:\n",
    "                cv2.putText(trame, \"Admis\", (x, y-10), cv2.FONT_HERSHEY_SIMPLEX, 1, (255, 255, 0), 2)\n",
    "                tmp += 1\n",
    "            else:\n",
    "                cv2.putText(trame, \"Non Admis\", (x, y-10), cv2.FONT_HERSHEY_SIMPLEX, 1, (255, 255, 0), 2)\n",
    "                tmp = 0\n",
    "\n",
    "        cv2.imshow('Reconnaissance faciale en temps réel', trame)\n",
    "        \n",
    "        if cv2.waitKey(1) == 27 or bal == 1:\n",
    "            break\n",
    "            \n",
    "    else:\n",
    "        print(\"erreur\")\n",
    "        break\n",
    "\n",
    "cv2.destroyAllWindows()\n",
    "camera.release()"
   ],
   "metadata": {
    "collapsed": false
   },
   "id": "c7bead06e6e6d91e",
   "execution_count": null
  },
  {
   "cell_type": "code",
   "outputs": [],
   "source": [],
   "metadata": {
    "collapsed": false
   },
   "id": "7ef5dd55d063fca9"
  }
 ],
 "metadata": {
  "kernelspec": {
   "display_name": "Python 3",
   "language": "python",
   "name": "python3"
  },
  "language_info": {
   "codemirror_mode": {
    "name": "ipython",
    "version": 2
   },
   "file_extension": ".py",
   "mimetype": "text/x-python",
   "name": "python",
   "nbconvert_exporter": "python",
   "pygments_lexer": "ipython2",
   "version": "2.7.6"
  }
 },
 "nbformat": 4,
 "nbformat_minor": 5
}
