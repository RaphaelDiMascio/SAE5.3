{
 "cells": [
  {
   "cell_type": "markdown",
   "id": "0a361880",
   "metadata": {},
   "source": [
    "# Reconnaissance faciale via $k$ plus proches voisins ($k$-NN)\n",
    "\n",
    ">## Partie 1: Dataset"
   ]
  },
  {
   "cell_type": "markdown",
   "id": "9a9f35df",
   "metadata": {},
   "source": [
    "## Librairies"
   ]
  },
  {
   "cell_type": "markdown",
   "id": "d691df55",
   "metadata": {},
   "source": [
    "- La librairie `cv2` permet la détection automatique de visages, entre autres.\n",
    "\n",
    "- La librairie `pickle` permet de sauvegarder vos modèles une fois entraînés, et de les recharger pour pouvoir les utiliser."
   ]
  },
  {
   "cell_type": "code",
   "execution_count": 1,
   "id": "8a41298c",
   "metadata": {
    "ExecuteTime": {
     "end_time": "2024-02-21T16:45:02.604762300Z",
     "start_time": "2024-02-21T16:45:00.422514400Z"
    }
   },
   "outputs": [],
   "source": [
    "import os\n",
    "\n",
    "import cv2\n",
    "import pickle\n",
    "\n",
    "import numpy as np\n",
    "\n",
    "import matplotlib.pyplot as plt"
   ]
  },
  {
   "cell_type": "markdown",
   "id": "2089bbe3",
   "metadata": {},
   "source": [
    "## Création du dataset"
   ]
  },
  {
   "cell_type": "markdown",
   "id": "b0183880",
   "metadata": {},
   "source": [
    "Le code suivant permet de créer un **dataset** d'images que vous utiliserez dans votre projet de **reconnaissance faciale**. Ce dataset contiendra des images de vous-même associées à votre nom ainsi que des images d'autres personnes (par exemple vos camarades) associées à leurs noms. **À chaque fois que vos relancez le code ci-dessous, votre caméra capture 10 images de la personne qui se trouve devant vootre PC et ajoute ces dernières à votre dataset.** \n",
    "\n",
    "Le code effectue les opérations suivantes. Premièrement, on lit le flux vidéo de votre caméra et on détecte automatiquement les visages dans chaque image de ce flux en utilisant le **classificateur en cascade de Haar (Haar cascade classifier)** de la librairie `OpenCV`. \n",
    "\n",
    "Plus précisément, tant que la variable `ret` est vraie, indiquant que le flux vidéo est lu correctement, pour chaque image capturée par la caméras, on effectue les opérations suivantes:\n",
    "1. on convertit l'image en niveaux de gris;\n",
    "2. on détecte les coordonnées du visage en utilisant le classificateur en cascade de Haar;\n",
    "3. on recadre la région du visage et la redimensionne en $50 \\times 50$ pixels;\n",
    "4. on ajoute l'image du visage redimensionné à la liste `donnees_visage`, à chaque intervalle de $10$ images.\n",
    "\n",
    "Une fois que $10$ images de votre visage ont été collecteés, ou si l'utilisateur appuye sur la touche `Esc`, on met fin à la boucle et enregistre les images dans la liste `donnees_visage` sous forme d'un tableau `NumPy`.\n",
    "\n",
    "Par la suite, l'existence des fichiers `noms.pkl` et `visages.pkl` est vérifiée. S'ils n'existent pas, de nouveaux fichiers sont créés, la variable `nom` est enregistrée dans `noms.pkl` et les données de visage sont enregistrées dans `visages.pkl`. Si ces fichiers existent déjà, le code charge les données existantes, ajoute les nouvelles données de visage et noms, et les réenregistre le tout dans ces fichiers."
   ]
  },
  {
   "cell_type": "code",
   "execution_count": 13,
   "id": "1ba3a98f",
   "metadata": {
    "ExecuteTime": {
     "end_time": "2024-02-21T16:47:36.467800300Z",
     "start_time": "2024-02-21T16:47:18.190016800Z"
    }
   },
   "outputs": [
    {
     "name": "stdout",
     "output_type": "stream",
     "text": [
      "Le classificateur de cascade a été chargé avec succès.\n"
     ]
    }
   ],
   "source": [
    "# ================== #\n",
    "# Variables globales #\n",
    "# ================== #\n",
    "if not os.path.exists(\"data\"):\n",
    "    os.mkdir(\"data\")         # création d'un répertoire data\n",
    "\n",
    "nb_images_collectees = 10    # nombre d'image que vous voulez collecter\n",
    "\n",
    "donnees_visage = []\n",
    "\n",
    "camera = cv2.VideoCapture(0) # 0 pour 'built-in' caméra, 1 pour caméra externe\n",
    "\n",
    "cascade_visage = cv2.CascadeClassifier(cv2.data.haarcascades + 'haarcascade_frontalface_default.xml')\n",
    "\n",
    "# Assurez-vous que le classificateur de cascade des yeux est chargé correctement\n",
    "if cascade_visage.empty():\n",
    "    print(\"Erreur: Le classificateur de cascade n'a pas été chargé correctement.\")\n",
    "else:\n",
    "    print(\"Le classificateur de cascade a été chargé avec succès.\")\n",
    "\n",
    "\n",
    "# =============================== #\n",
    "# Capture des data: nom et images #\n",
    "# =============================== #\n",
    "nom = input(\"Entrez votre nom: \")\n",
    "\n",
    "ret = True\n",
    "i = 0\n",
    "\n",
    "while(ret):\n",
    "    \n",
    "    ret, frame = camera.read()\n",
    "    \n",
    "    if ret == True:\n",
    "        \n",
    "        gris = cv2.cvtColor(frame, cv2.COLOR_BGR2GRAY)\n",
    "\n",
    "        coordonnees_visage = cascade_visage.detectMultiScale(gris, 1.3, 4)\n",
    "\n",
    "        for (a, b, w, h) in coordonnees_visage:\n",
    "            \n",
    "            visages = frame[b:b+h, a:a+w, :]\n",
    "            visages_redimensionnes = cv2.resize(visages, (50, 50))\n",
    "            \n",
    "            if i % 10 == 0 and len(donnees_visage) < nb_images_collectees:\n",
    "                \n",
    "                donnees_visage.append(visages_redimensionnes)\n",
    "                \n",
    "            cv2.rectangle(frame, (a, b), (a+w, b+h), (255, 0, 0), 2)\n",
    "            \n",
    "        i += 1\n",
    "\n",
    "        cv2.imshow('Visages', frame)\n",
    "\n",
    "        if cv2.waitKey(1) == 27 or len(donnees_visage) >= nb_images_collectees:\n",
    "            \n",
    "            break\n",
    "    else:\n",
    "        \n",
    "        print('erreur')\n",
    "        break\n",
    "    \n",
    "\n",
    "cv2.destroyAllWindows()\n",
    "camera.release()\n",
    "\n",
    "donnees_visage = np.asarray(donnees_visage)\n",
    "# donnees_visage = donnees_visage.reshape(10, -1)\n",
    "\n",
    "\n",
    "# ====================================== #\n",
    "# Enregistrement des data: nom et images #\n",
    "# ====================================== #\n",
    "if 'noms.pkl' not in os.listdir('data/'):\n",
    "    \n",
    "    noms = [nom]*10\n",
    "    with open('data/noms.pkl', 'wb') as file:\n",
    "        pickle.dump(noms, file)\n",
    "else:\n",
    "    \n",
    "    with open('data/noms.pkl', 'rb') as file:\n",
    "        noms = pickle.load(file)\n",
    "\n",
    "    noms = noms + [nom]*10\n",
    "    with open('data/noms.pkl', 'wb') as file:\n",
    "        pickle.dump(noms, file)\n",
    "\n",
    "\n",
    "if 'visages.pkl' not in os.listdir('data/'):\n",
    "    \n",
    "    with open('data/visages.pkl', 'wb') as w:\n",
    "        pickle.dump(donnees_visage, w)\n",
    "else:\n",
    "    \n",
    "    with open('data/visages.pkl', 'rb') as w:\n",
    "        visages = pickle.load(w)\n",
    "\n",
    "    visages = np.append(visages, donnees_visage, axis=0)\n",
    "    with open('data/visages.pkl', 'wb') as w:\n",
    "        pickle.dump(visages, w)"
   ]
  },
  {
   "cell_type": "markdown",
   "id": "e3bec3e0",
   "metadata": {},
   "source": [
    "## Visualisation du dataset"
   ]
  },
  {
   "cell_type": "markdown",
   "id": "08df3d2c",
   "metadata": {},
   "source": [
    "Le instructions suivantes permettent de loader votre dataset et de comprendre comment sont stockées les data.\n",
    "\n",
    "Prêtez attention aux types de vos data, en particulier à la dimension de vos images, etc."
   ]
  },
  {
   "cell_type": "code",
   "execution_count": 14,
   "id": "c4c5cd3d",
   "metadata": {
    "ExecuteTime": {
     "end_time": "2024-02-21T16:47:40.275133Z",
     "start_time": "2024-02-21T16:47:40.257225400Z"
    }
   },
   "outputs": [],
   "source": [
    "with open(\"data/noms.pkl\", \"rb\") as fh:\n",
    "    noms = pickle.load(fh)"
   ]
  },
  {
   "cell_type": "code",
   "execution_count": 15,
   "id": "b3af5a29",
   "metadata": {
    "ExecuteTime": {
     "end_time": "2024-02-21T16:47:41.248289700Z",
     "start_time": "2024-02-21T16:47:41.221975700Z"
    }
   },
   "outputs": [
    {
     "data": {
      "text/plain": "['Raphael',\n 'Raphael',\n 'Raphael',\n 'Raphael',\n 'Raphael',\n 'Raphael',\n 'Raphael',\n 'Raphael',\n 'Raphael',\n 'Raphael',\n 'Soumaya',\n 'Soumaya',\n 'Soumaya',\n 'Soumaya',\n 'Soumaya',\n 'Soumaya',\n 'Soumaya',\n 'Soumaya',\n 'Soumaya',\n 'Soumaya']"
     },
     "execution_count": 15,
     "metadata": {},
     "output_type": "execute_result"
    }
   ],
   "source": [
    "noms"
   ]
  },
  {
   "cell_type": "code",
   "execution_count": 16,
   "id": "d7fc242c",
   "metadata": {
    "ExecuteTime": {
     "end_time": "2024-02-21T16:48:08.034831800Z",
     "start_time": "2024-02-21T16:48:08.014718600Z"
    }
   },
   "outputs": [],
   "source": [
    "with open(\"data/visages.pkl\", \"rb\") as fh:\n",
    "    visages = pickle.load(fh)"
   ]
  },
  {
   "cell_type": "code",
   "execution_count": 17,
   "id": "10dab6d3",
   "metadata": {
    "ExecuteTime": {
     "end_time": "2024-02-21T16:48:08.905643500Z",
     "start_time": "2024-02-21T16:48:08.856244600Z"
    }
   },
   "outputs": [
    {
     "data": {
      "text/plain": "array([[[[232, 242, 212],\n         [228, 239, 209],\n         [227, 240, 210],\n         ...,\n         [ 95,  98,  90],\n         [ 95, 100,  94],\n         [ 89, 100,  91]],\n\n        [[232, 245, 215],\n         [229, 245, 214],\n         [229, 243, 212],\n         ...,\n         [ 93, 100,  92],\n         [ 93, 102,  97],\n         [ 91,  95,  87]],\n\n        [[230, 246, 215],\n         [228, 246, 215],\n         [228, 245, 216],\n         ...,\n         [ 93,  86,  82],\n         [ 93,  97,  92],\n         [ 94,  90,  89]],\n\n        ...,\n\n        [[125, 136, 148],\n         [114, 131, 141],\n         [108, 130, 139],\n         ...,\n         [151, 155, 150],\n         [144, 157, 149],\n         [139, 151, 144]],\n\n        [[115, 130, 137],\n         [108, 123, 132],\n         [109, 121, 132],\n         ...,\n         [144, 145, 139],\n         [148, 152, 147],\n         [141, 144, 143]],\n\n        [[113, 123, 124],\n         [104, 117, 123],\n         [107, 113, 122],\n         ...,\n         [147, 143, 141],\n         [145, 143, 143],\n         [139, 142, 142]]],\n\n\n       [[[219, 222, 206],\n         [218, 220, 206],\n         [220, 225, 210],\n         ...,\n         [ 87,  87,  83],\n         [ 82,  82,  82],\n         [ 69,  72,  80]],\n\n        [[221, 226, 207],\n         [223, 230, 211],\n         [220, 226, 209],\n         ...,\n         [ 92,  91,  91],\n         [ 84,  84,  84],\n         [ 71,  75,  81]],\n\n        [[233, 238, 217],\n         [226, 234, 211],\n         [225, 232, 212],\n         ...,\n         [ 97,  97,  96],\n         [ 94,  94,  94],\n         [ 73,  80,  84]],\n\n        ...,\n\n        [[124, 132, 153],\n         [123, 130, 151],\n         [121, 127, 149],\n         ...,\n         [143, 142, 142],\n         [143, 138, 139],\n         [139, 137, 137]],\n\n        [[118, 124, 141],\n         [109, 122, 139],\n         [104, 120, 139],\n         ...,\n         [138, 137, 137],\n         [136, 136, 136],\n         [133, 133, 134]],\n\n        [[115, 121, 137],\n         [107, 113, 129],\n         [107, 111, 129],\n         ...,\n         [133, 131, 131],\n         [132, 133, 131],\n         [133, 131, 130]]],\n\n\n       [[[218, 224, 207],\n         [219, 228, 208],\n         [217, 224, 206],\n         ...,\n         [ 81,  83,  83],\n         [ 75,  78,  82],\n         [ 90, 105, 121]],\n\n        [[221, 225, 209],\n         [216, 223, 206],\n         [220, 226, 209],\n         ...,\n         [ 80,  81,  81],\n         [ 74,  79,  81],\n         [ 74,  94, 111]],\n\n        [[223, 232, 215],\n         [225, 232, 215],\n         [222, 228, 211],\n         ...,\n         [ 88,  87,  87],\n         [ 77,  81,  83],\n         [ 76,  98, 112]],\n\n        ...,\n\n        [[115, 129, 147],\n         [117, 128, 146],\n         [113, 124, 143],\n         ...,\n         [138, 138, 138],\n         [137, 137, 137],\n         [130, 132, 132]],\n\n        [[ 94, 104, 117],\n         [100, 110, 121],\n         [ 97, 106, 120],\n         ...,\n         [133, 134, 132],\n         [134, 136, 136],\n         [128, 128, 128]],\n\n        [[108, 124, 138],\n         [107, 121, 137],\n         [101, 119, 135],\n         ...,\n         [131, 130, 130],\n         [128, 125, 126],\n         [131, 133, 131]]],\n\n\n       ...,\n\n\n       [[[ 40,  33,  37],\n         [ 34,  28,  29],\n         [ 35,  23,  26],\n         ...,\n         [ 37,  30,  32],\n         [ 39,  32,  35],\n         [ 38,  36,  39]],\n\n        [[ 36,  29,  33],\n         [ 33,  27,  28],\n         [ 36,  24,  27],\n         ...,\n         [ 34,  27,  30],\n         [ 41,  33,  36],\n         [ 36,  34,  36]],\n\n        [[ 33,  25,  29],\n         [ 31,  24,  25],\n         [ 33,  23,  26],\n         ...,\n         [ 36,  29,  33],\n         [ 43,  35,  39],\n         [ 41,  37,  38]],\n\n        ...,\n\n        [[ 24,  14,  16],\n         [ 22,  13,  15],\n         [ 28,  14,  18],\n         ...,\n         [ 41,  35,  38],\n         [ 60,  62,  67],\n         [ 62,  65,  69]],\n\n        [[ 26,  15,  18],\n         [ 27,  16,  19],\n         [ 29,  15,  19],\n         ...,\n         [ 51,  51,  66],\n         [ 49,  56,  78],\n         [ 52,  57,  78]],\n\n        [[ 28,  17,  21],\n         [ 28,  17,  21],\n         [ 26,  13,  18],\n         ...,\n         [ 55,  52,  71],\n         [ 55,  57,  84],\n         [ 56,  63,  90]]],\n\n\n       [[[ 40,  33,  37],\n         [ 44,  34,  35],\n         [ 32,  25,  27],\n         ...,\n         [ 30,  25,  26],\n         [ 35,  33,  34],\n         [ 40,  35,  40]],\n\n        [[ 29,  25,  28],\n         [ 35,  29,  30],\n         [ 33,  27,  28],\n         ...,\n         [ 30,  25,  26],\n         [ 32,  31,  31],\n         [ 37,  34,  39]],\n\n        [[ 34,  28,  29],\n         [ 33,  26,  27],\n         [ 34,  22,  27],\n         ...,\n         [ 29,  23,  25],\n         [ 38,  32,  35],\n         [ 42,  34,  37]],\n\n        ...,\n\n        [[ 25,  14,  16],\n         [ 25,  13,  15],\n         [ 24,  14,  17],\n         ...,\n         [ 46,  36,  43],\n         [ 53,  55,  65],\n         [ 52,  63,  82]],\n\n        [[ 23,  14,  17],\n         [ 24,  15,  18],\n         [ 22,  14,  18],\n         ...,\n         [ 64,  54,  66],\n         [ 54,  58,  76],\n         [ 51,  58,  78]],\n\n        [[ 26,  20,  24],\n         [ 31,  26,  30],\n         [ 24,  21,  23],\n         ...,\n         [ 52,  49,  65],\n         [ 51,  57,  87],\n         [ 50,  63,  85]]],\n\n\n       [[[ 35,  30,  31],\n         [ 34,  26,  27],\n         [ 34,  26,  27],\n         ...,\n         [ 29,  24,  25],\n         [ 28,  24,  25],\n         [ 34,  30,  32]],\n\n        [[ 28,  26,  26],\n         [ 36,  23,  25],\n         [ 34,  22,  24],\n         ...,\n         [ 31,  27,  28],\n         [ 28,  25,  25],\n         [ 39,  35,  37]],\n\n        [[ 32,  26,  27],\n         [ 36,  19,  22],\n         [ 31,  16,  18],\n         ...,\n         [ 27,  23,  24],\n         [ 32,  29,  29],\n         [ 37,  32,  34]],\n\n        ...,\n\n        [[ 20,  14,  15],\n         [ 26,  13,  15],\n         [ 24,  11,  13],\n         ...,\n         [ 37,  23,  25],\n         [ 35,  20,  24],\n         [ 34,  23,  29]],\n\n        [[ 24,  14,  16],\n         [ 24,  17,  18],\n         [ 21,  14,  15],\n         ...,\n         [ 29,  27,  29],\n         [ 43,  45,  50],\n         [ 49,  59,  67]],\n\n        [[ 24,  13,  15],\n         [ 22,  14,  15],\n         [ 22,  13,  14],\n         ...,\n         [ 41,  29,  35],\n         [ 60,  57,  67],\n         [ 41,  53,  65]]]], dtype=uint8)"
     },
     "execution_count": 17,
     "metadata": {},
     "output_type": "execute_result"
    }
   ],
   "source": [
    "visages"
   ]
  },
  {
   "cell_type": "code",
   "execution_count": 18,
   "id": "a8436555",
   "metadata": {
    "ExecuteTime": {
     "end_time": "2024-02-21T16:48:20.499471300Z",
     "start_time": "2024-02-21T16:48:20.473892Z"
    }
   },
   "outputs": [
    {
     "data": {
      "text/plain": "(20, 50, 50, 3)"
     },
     "execution_count": 18,
     "metadata": {},
     "output_type": "execute_result"
    }
   ],
   "source": [
    "visages.shape"
   ]
  },
  {
   "cell_type": "code",
   "execution_count": 19,
   "id": "1ef19a8e",
   "metadata": {
    "ExecuteTime": {
     "end_time": "2024-02-21T16:48:21.304095400Z",
     "start_time": "2024-02-21T16:48:21.276620900Z"
    }
   },
   "outputs": [
    {
     "data": {
      "text/plain": "(50, 50, 3)"
     },
     "execution_count": 19,
     "metadata": {},
     "output_type": "execute_result"
    }
   ],
   "source": [
    "sample_1 = visages[0]\n",
    "sample_1.shape"
   ]
  },
  {
   "cell_type": "code",
   "execution_count": 20,
   "id": "c3539263",
   "metadata": {
    "ExecuteTime": {
     "end_time": "2024-02-21T16:48:22.157660900Z",
     "start_time": "2024-02-21T16:48:21.875804200Z"
    }
   },
   "outputs": [
    {
     "data": {
      "text/plain": "<matplotlib.image.AxesImage at 0x1da9c1d3320>"
     },
     "execution_count": 20,
     "metadata": {},
     "output_type": "execute_result"
    },
    {
     "data": {
      "text/plain": "<Figure size 640x480 with 1 Axes>",
      "image/png": "[encoded data removed]"
     },
     "metadata": {},
     "output_type": "display_data"
    }
   ],
   "source": [
    "plt.imshow(sample_1, interpolation=\"nearest\")"
   ]
  },
  {
   "cell_type": "code",
   "execution_count": 21,
   "id": "ac4aaef1",
   "metadata": {
    "ExecuteTime": {
     "end_time": "2024-02-21T16:48:22.726070500Z",
     "start_time": "2024-02-21T16:48:22.703462800Z"
    }
   },
   "outputs": [
    {
     "data": {
      "text/plain": "(50, 50, 3)"
     },
     "execution_count": 21,
     "metadata": {},
     "output_type": "execute_result"
    }
   ],
   "source": [
    "sample_2 = visages[5]\n",
    "sample_2.shape"
   ]
  },
  {
   "cell_type": "code",
   "execution_count": 22,
   "id": "ed489bfa",
   "metadata": {
    "ExecuteTime": {
     "end_time": "2024-02-21T16:48:23.505068400Z",
     "start_time": "2024-02-21T16:48:23.305428100Z"
    }
   },
   "outputs": [
    {
     "data": {
      "text/plain": "<matplotlib.image.AxesImage at 0x1da9e404b90>"
     },
     "execution_count": 22,
     "metadata": {},
     "output_type": "execute_result"
    },
    {
     "data": {
      "text/plain": "<Figure size 640x480 with 1 Axes>",
      "image/png": "[encoded data removed]"
     },
     "metadata": {},
     "output_type": "display_data"
    }
   ],
   "source": [
    "plt.imshow(sample_2, interpolation=\"nearest\")"
   ]
  },
  {
   "cell_type": "code",
   "execution_count": 23,
   "id": "06a26147",
   "metadata": {
    "ExecuteTime": {
     "end_time": "2024-02-21T16:48:25.884937700Z",
     "start_time": "2024-02-21T16:48:23.972144200Z"
    }
   },
   "outputs": [],
   "source": [
    "import cv2\n",
    "\n",
    "# Chargement du classificateur de cascade pour la détection de visages\n",
    "cascade_visage = cv2.CascadeClassifier(cv2.data.haarcascades + 'haarcascade_frontalface_default.xml')\n",
    "\n",
    "# Charger une image à partir du disque\n",
    "image = cv2.imread('moi.png')\n",
    "\n",
    "# Convertir l'image en niveaux de gris\n",
    "gris = cv2.cvtColor(image, cv2.COLOR_BGR2GRAY)\n",
    "\n",
    "# Détecter les visages dans l'image\n",
    "coordonnees_visage = cascade_visage.detectMultiScale(gris, 1.3, 5)\n",
    "\n",
    "# Dessiner des rectangles autour des visages détectés\n",
    "for (x, y, w, h) in coordonnees_visage:\n",
    "    cv2.rectangle(image, (x, y), (x+w, y+h), (255, 0, 0), 2)\n",
    "\n",
    "# Afficher l'image avec les visages détectés\n",
    "cv2.imshow('Visages détectés', image)\n",
    "cv2.waitKey(0)\n",
    "cv2.destroyAllWindows()\n"
   ]
  },
  {
   "cell_type": "code",
   "outputs": [],
   "source": [],
   "metadata": {
    "collapsed": false
   },
   "id": "500ebf2854cb8a11"
  }
 ],
 "metadata": {
  "kernelspec": {
   "display_name": "Python 3 (ipykernel)",
   "language": "python",
   "name": "python3"
  },
  "language_info": {
   "codemirror_mode": {
    "name": "ipython",
    "version": 3
   },
   "file_extension": ".py",
   "mimetype": "text/x-python",
   "name": "python",
   "nbconvert_exporter": "python",
   "pygments_lexer": "ipython3",
   "version": "3.12.2"
  }
 },
 "nbformat": 4,
 "nbformat_minor": 5
}
