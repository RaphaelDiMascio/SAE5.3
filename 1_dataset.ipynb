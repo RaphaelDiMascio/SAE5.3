{
 "cells": [
  {
   "cell_type": "markdown",
   "id": "0a361880",
   "metadata": {},
   "source": [
    "# Reconnaissance faciale via $k$ plus proches voisins ($k$-NN)\n",
    "\n",
    ">## Partie 1: Dataset"
   ]
  },
  {
   "cell_type": "markdown",
   "id": "9a9f35df",
   "metadata": {},
   "source": [
    "## Librairies"
   ]
  },
  {
   "cell_type": "markdown",
   "id": "d691df55",
   "metadata": {},
   "source": [
    "- La librairie `cv2` permet la détection automatique de visages, entre autres.\n",
    "\n",
    "- La librairie `pickle` permet de sauvegarder vos modèles une fois entraînés, et de les recharger pour pouvoir les utiliser."
   ]
  },
  {
   "cell_type": "code",
   "execution_count": 79,
   "id": "8a41298c",
   "metadata": {
    "ExecuteTime": {
     "end_time": "2024-02-29T14:27:51.083058Z",
     "start_time": "2024-02-29T14:27:51.075895Z"
    }
   },
   "outputs": [],
   "source": [
    "import os\n",
    "\n",
    "import cv2\n",
    "import pickle\n",
    "\n",
    "import numpy as np\n",
    "\n",
    "import matplotlib.pyplot as plt"
   ]
  },
  {
   "cell_type": "markdown",
   "id": "2089bbe3",
   "metadata": {},
   "source": [
    "## Création du dataset"
   ]
  },
  {
   "cell_type": "markdown",
   "id": "b0183880",
   "metadata": {},
   "source": [
    "Le code suivant permet de créer un **dataset** d'images que vous utiliserez dans votre projet de **reconnaissance faciale**. Ce dataset contiendra des images de vous-même associées à votre nom ainsi que des images d'autres personnes (par exemple vos camarades) associées à leurs noms. **À chaque fois que vos relancez le code ci-dessous, votre caméra capture 10 images de la personne qui se trouve devant vootre PC et ajoute ces dernières à votre dataset.** \n",
    "\n",
    "Le code effectue les opérations suivantes. Premièrement, on lit le flux vidéo de votre caméra et on détecte automatiquement les visages dans chaque image de ce flux en utilisant le **classificateur en cascade de Haar (Haar cascade classifier)** de la librairie `OpenCV`. \n",
    "\n",
    "Plus précisément, tant que la variable `ret` est vraie, indiquant que le flux vidéo est lu correctement, pour chaque image capturée par la caméras, on effectue les opérations suivantes:\n",
    "1. on convertit l'image en niveaux de gris;\n",
    "2. on détecte les coordonnées du visage en utilisant le classificateur en cascade de Haar;\n",
    "3. on recadre la région du visage et la redimensionne en $50 \\times 50$ pixels;\n",
    "4. on ajoute l'image du visage redimensionné à la liste `donnees_visage`, à chaque intervalle de $10$ images.\n",
    "\n",
    "Une fois que $10$ images de votre visage ont été collecteés, ou si l'utilisateur appuye sur la touche `Esc`, on met fin à la boucle et enregistre les images dans la liste `donnees_visage` sous forme d'un tableau `NumPy`.\n",
    "\n",
    "Par la suite, l'existence des fichiers `noms.pkl` et `visages.pkl` est vérifiée. S'ils n'existent pas, de nouveaux fichiers sont créés, la variable `nom` est enregistrée dans `noms.pkl` et les données de visage sont enregistrées dans `visages.pkl`. Si ces fichiers existent déjà, le code charge les données existantes, ajoute les nouvelles données de visage et noms, et les réenregistre le tout dans ces fichiers."
   ]
  },
  {
   "cell_type": "code",
   "execution_count": 80,
   "id": "1ba3a98f",
   "metadata": {
    "ExecuteTime": {
     "end_time": "2024-02-29T14:28:26.469815Z",
     "start_time": "2024-02-29T14:27:51.193778Z"
    }
   },
   "outputs": [
    {
     "name": "stdout",
     "output_type": "stream",
     "text": [
      "Le classificateur de cascade a été chargé avec succès.\n"
     ]
    }
   ],
   "source": [
    "# ================== #\n",
    "# Variables globales #\n",
    "# ================== #\n",
    "if not os.path.exists(\"data\"):\n",
    "    os.mkdir(\"data\")         # création d'un répertoire data\n",
    "\n",
    "nb_images_collectees = 30    # nombre d'image que vous voulez collecter\n",
    "\n",
    "donnees_visage = []\n",
    "\n",
    "camera = cv2.VideoCapture(0) # 0 pour 'built-in' caméra, 1 pour caméra externe\n",
    "\n",
    "cascade_visage = cv2.CascadeClassifier(cv2.data.haarcascades + 'haarcascade_frontalface_default.xml')\n",
    "\n",
    "# Assurez-vous que le classificateur de cascade des yeux est chargé correctement\n",
    "if cascade_visage.empty():\n",
    "    print(\"Erreur: Le classificateur de cascade n'a pas été chargé correctement.\")\n",
    "else:\n",
    "    print(\"Le classificateur de cascade a été chargé avec succès.\")\n",
    "\n",
    "\n",
    "# =============================== #\n",
    "# Capture des data: nom et images #\n",
    "# =============================== #\n",
    "nom = input(\"Entrez votre nom: \")\n",
    "\n",
    "ret = True\n",
    "i = 0\n",
    "\n",
    "while(ret):\n",
    "    \n",
    "    ret, frame = camera.read()\n",
    "    \n",
    "    if ret == True:\n",
    "        \n",
    "        gris = cv2.cvtColor(frame, cv2.COLOR_BGR2GRAY)\n",
    "\n",
    "        coordonnees_visage = cascade_visage.detectMultiScale(gris, 1.3, 4)\n",
    "\n",
    "        for (a, b, w, h) in coordonnees_visage:\n",
    "            \n",
    "            visages = frame[b:b+h, a:a+w, :]\n",
    "            visages_redimensionnes = cv2.resize(visages, (50, 50))\n",
    "            \n",
    "            if i % 10 == 0 and len(donnees_visage) < nb_images_collectees:\n",
    "                \n",
    "                donnees_visage.append(visages_redimensionnes)\n",
    "                \n",
    "            cv2.rectangle(frame, (a, b), (a+w, b+h), (255, 0, 0), 2)\n",
    "            \n",
    "        i += 1\n",
    "\n",
    "        cv2.imshow('Visages', frame)\n",
    "\n",
    "        if cv2.waitKey(1) == 27 or len(donnees_visage) >= nb_images_collectees:\n",
    "            \n",
    "            break\n",
    "    else:\n",
    "        \n",
    "        print('erreur')\n",
    "        break\n",
    "    \n",
    "\n",
    "cv2.destroyAllWindows()\n",
    "camera.release()\n",
    "\n",
    "donnees_visage = np.asarray(donnees_visage)\n",
    "# donnees_visage = donnees_visage.reshape(10, -1)\n",
    "\n",
    "\n",
    "# ====================================== #\n",
    "# Enregistrement des data: nom et images #\n",
    "# ====================================== #\n",
    "if 'noms.pkl' not in os.listdir('data/'):\n",
    "    \n",
    "    noms = [nom]*nb_images_collectees\n",
    "    with open('data/noms.pkl', 'wb') as file:\n",
    "        pickle.dump(noms, file)\n",
    "else:\n",
    "    \n",
    "    with open('data/noms.pkl', 'rb') as file:\n",
    "        noms = pickle.load(file)\n",
    "\n",
    "    noms = noms + [nom]*nb_images_collectees\n",
    "    with open('data/noms.pkl', 'wb') as file:\n",
    "        pickle.dump(noms, file)\n",
    "\n",
    "\n",
    "if 'visages.pkl' not in os.listdir('data/'):\n",
    "    \n",
    "    with open('data/visages.pkl', 'wb') as w:\n",
    "        pickle.dump(donnees_visage, w)\n",
    "else:\n",
    "    \n",
    "    with open('data/visages.pkl', 'rb') as w:\n",
    "        visages = pickle.load(w)\n",
    "\n",
    "    visages = np.append(visages, donnees_visage, axis=0)\n",
    "    with open('data/visages.pkl', 'wb') as w:\n",
    "        pickle.dump(visages, w)"
   ]
  },
  {
   "cell_type": "markdown",
   "id": "e3bec3e0",
   "metadata": {},
   "source": [
    "## Visualisation du dataset"
   ]
  },
  {
   "cell_type": "markdown",
   "id": "08df3d2c",
   "metadata": {},
   "source": [
    "Le instructions suivantes permettent de loader votre dataset et de comprendre comment sont stockées les data.\n",
    "\n",
    "Prêtez attention aux types de vos data, en particulier à la dimension de vos images, etc."
   ]
  },
  {
   "cell_type": "code",
   "execution_count": 81,
   "id": "c4c5cd3d",
   "metadata": {
    "ExecuteTime": {
     "end_time": "2024-02-29T14:28:26.507610Z",
     "start_time": "2024-02-29T14:28:26.476875Z"
    }
   },
   "outputs": [],
   "source": [
    "with open(\"data/noms.pkl\", \"rb\") as fh:\n",
    "    noms = pickle.load(fh)"
   ]
  },
  {
   "cell_type": "code",
   "execution_count": 82,
   "id": "b3af5a29",
   "metadata": {
    "ExecuteTime": {
     "end_time": "2024-02-29T14:28:26.530407Z",
     "start_time": "2024-02-29T14:28:26.512332Z"
    }
   },
   "outputs": [
    {
     "data": {
      "text/plain": "['Hugo',\n 'Hugo',\n 'Hugo',\n 'Hugo',\n 'Hugo',\n 'Hugo',\n 'Hugo',\n 'Hugo',\n 'Hugo',\n 'Hugo',\n 'Hugo',\n 'Hugo',\n 'Hugo',\n 'Hugo',\n 'Hugo',\n 'Hugo',\n 'Hugo',\n 'Hugo',\n 'Hugo',\n 'Hugo',\n 'Hugo',\n 'Hugo',\n 'Hugo',\n 'Hugo',\n 'Hugo',\n 'Hugo',\n 'Hugo',\n 'Hugo',\n 'Hugo',\n 'Hugo',\n 'Robin',\n 'Robin',\n 'Robin',\n 'Robin',\n 'Robin',\n 'Robin',\n 'Robin',\n 'Robin',\n 'Robin',\n 'Robin',\n 'Robin',\n 'Robin',\n 'Robin',\n 'Robin',\n 'Robin',\n 'Robin',\n 'Robin',\n 'Robin',\n 'Robin',\n 'Robin',\n 'Robin',\n 'Robin',\n 'Robin',\n 'Robin',\n 'Robin',\n 'Robin',\n 'Robin',\n 'Robin',\n 'Robin',\n 'Robin']"
     },
     "execution_count": 82,
     "metadata": {},
     "output_type": "execute_result"
    }
   ],
   "source": [
    "noms"
   ]
  },
  {
   "cell_type": "code",
   "execution_count": 83,
   "id": "d7fc242c",
   "metadata": {
    "ExecuteTime": {
     "end_time": "2024-02-29T14:28:26.578432Z",
     "start_time": "2024-02-29T14:28:26.540401Z"
    }
   },
   "outputs": [],
   "source": [
    "with open(\"data/visages.pkl\", \"rb\") as fh:\n",
    "    visages = pickle.load(fh)"
   ]
  },
  {
   "cell_type": "code",
   "execution_count": 84,
   "id": "10dab6d3",
   "metadata": {
    "ExecuteTime": {
     "end_time": "2024-02-29T14:28:26.607368Z",
     "start_time": "2024-02-29T14:28:26.584099Z"
    }
   },
   "outputs": [
    {
     "data": {
      "text/plain": "array([[[[ 72,  80,  83],\n         [ 75,  79,  81],\n         [ 93,  89,  99],\n         ...,\n         [104,  99, 107],\n         [101,  99,  97],\n         [105, 104, 100]],\n\n        [[ 83,  79,  86],\n         [ 85,  81,  86],\n         [ 96,  91,  99],\n         ...,\n         [ 99,  95, 101],\n         [105, 101, 106],\n         [105, 103, 103]],\n\n        [[ 86,  82,  87],\n         [ 94,  90,  95],\n         [ 97,  91, 104],\n         ...,\n         [ 25,  19,  30],\n         [100,  95, 103],\n         [104, 101, 103]],\n\n        ...,\n\n        [[ 93,  83,  93],\n         [ 91,  89,  94],\n         [ 95,  94,  95],\n         ...,\n         [111,  99,  95],\n         [115, 104, 103],\n         [106, 103,  99]],\n\n        [[ 96,  87,  81],\n         [ 94,  87,  84],\n         [ 96,  93,  92],\n         ...,\n         [109, 107, 107],\n         [103,  99, 101],\n         [102,  97, 102]],\n\n        [[ 92,  86,  87],\n         [ 95,  89,  91],\n         [ 99,  93,  97],\n         ...,\n         [100,  95,  98],\n         [ 96,  90,  95],\n         [111, 107, 107]]],\n\n\n       [[[ 90,  83,  93],\n         [ 91,  89,  96],\n         [105, 105, 108],\n         ...,\n         [119, 114, 116],\n         [112, 107, 108],\n         [110, 104, 109]],\n\n        [[ 90,  87,  92],\n         [ 94,  90,  94],\n         [107, 100, 104],\n         ...,\n         [ 45,  35,  55],\n         [117, 112, 113],\n         [114, 111, 107]],\n\n        [[ 92,  86,  94],\n         [ 97,  92, 100],\n         [ 98,  95, 104],\n         ...,\n         [ 30,  24,  31],\n         [ 86,  82,  82],\n         [111, 107, 106]],\n\n        ...,\n\n        [[ 99,  91,  95],\n         [ 97,  88,  94],\n         [ 98,  91,  96],\n         ...,\n         [115, 105, 108],\n         [114, 104, 107],\n         [117, 106, 109]],\n\n        [[ 91,  87,  92],\n         [ 97,  89,  93],\n         [ 97,  90,  94],\n         ...,\n         [111, 102, 106],\n         [110, 105, 104],\n         [113, 104, 104]],\n\n        [[ 97,  87,  93],\n         [ 96,  88,  94],\n         [ 98,  90,  96],\n         ...,\n         [109, 103, 107],\n         [113, 106, 101],\n         [117, 103,  97]]],\n\n\n       [[[ 88,  88,  89],\n         [ 90,  87,  90],\n         [ 88,  87,  90],\n         ...,\n         [105, 101,  99],\n         [105,  98, 101],\n         [106,  99, 102]],\n\n        [[ 88,  87,  87],\n         [ 91,  89,  90],\n         [ 88,  86,  90],\n         ...,\n         [110, 106, 108],\n         [109, 103, 108],\n         [108, 102, 105]],\n\n        [[ 89,  85,  87],\n         [ 93,  90,  89],\n         [ 89,  87,  86],\n         ...,\n         [113, 108, 112],\n         [115, 111, 111],\n         [110, 105, 106]],\n\n        ...,\n\n        [[ 96,  90,  98],\n         [ 98,  93,  94],\n         [102,  98,  96],\n         ...,\n         [114, 108, 100],\n         [118, 109, 100],\n         [121, 112, 105]],\n\n        [[ 99,  88,  97],\n         [ 99,  88,  94],\n         [102,  93,  95],\n         ...,\n         [116, 105, 100],\n         [117, 107, 100],\n         [117, 109, 107]],\n\n        [[ 97,  90,  97],\n         [100,  91,  92],\n         [107,  97,  93],\n         ...,\n         [114, 105, 101],\n         [115, 105,  98],\n         [117, 109, 102]]],\n\n\n       ...,\n\n\n       [[[ 28,  21,  19],\n         [151, 151, 151],\n         [143, 151, 147],\n         ...,\n         [126, 131, 120],\n         [136, 136, 126],\n         [141, 140, 130]],\n\n        [[ 21,  19,  14],\n         [146, 152, 148],\n         [140, 149, 143],\n         ...,\n         [134, 134, 127],\n         [130, 134, 125],\n         [134, 139, 128]],\n\n        [[ 23,  22,  18],\n         [143, 150, 143],\n         [145, 149, 144],\n         ...,\n         [143, 139, 131],\n         [138, 136, 127],\n         [133, 134, 125]],\n\n        ...,\n\n        [[110, 119, 118],\n         [104, 112, 114],\n         [ 95, 104, 107],\n         ...,\n         [ 77,  83,  97],\n         [ 74,  76,  90],\n         [ 87,  88,  99]],\n\n        [[108, 117, 116],\n         [ 96, 106, 106],\n         [ 98, 104, 108],\n         ...,\n         [ 58,  72,  87],\n         [ 53,  66,  82],\n         [ 52,  66,  77]],\n\n        [[112, 117, 119],\n         [111, 117, 119],\n         [104, 111, 112],\n         ...,\n         [ 57,  67,  82],\n         [ 58,  70,  86],\n         [ 54,  68,  81]]],\n\n\n       [[[148, 153, 151],\n         [144, 151, 147],\n         [144, 149, 144],\n         ...,\n         [136, 134, 125],\n         [137, 136, 129],\n         [141, 140, 133]],\n\n        [[145, 150, 148],\n         [143, 149, 145],\n         [148, 151, 146],\n         ...,\n         [136, 137, 126],\n         [137, 138, 128],\n         [136, 136, 124]],\n\n        [[144, 150, 147],\n         [144, 153, 147],\n         [143, 152, 146],\n         ...,\n         [133, 136, 129],\n         [130, 135, 125],\n         [138, 140, 127]],\n\n        ...,\n\n        [[106, 110, 116],\n         [ 97, 101, 110],\n         [101, 107, 114],\n         ...,\n         [132, 135, 133],\n         [129, 132, 134],\n         [125, 127, 126]],\n\n        [[104, 114, 114],\n         [ 97, 104, 107],\n         [ 97, 106, 111],\n         ...,\n         [ 89,  90, 103],\n         [106, 109, 117],\n         [106, 111, 114]],\n\n        [[102, 111, 110],\n         [ 95, 102, 103],\n         [ 98, 110, 112],\n         ...,\n         [ 59,  65,  85],\n         [ 56,  61,  77],\n         [ 66,  76,  84]]],\n\n\n       [[[ 16,  15,  16],\n         [140, 151, 139],\n         [143, 152, 143],\n         ...,\n         [132, 133, 124],\n         [136, 139, 130],\n         [138, 139, 129]],\n\n        [[ 23,  16,  16],\n         [150, 149, 142],\n         [146, 151, 144],\n         ...,\n         [131, 133, 120],\n         [140, 141, 129],\n         [132, 133, 120]],\n\n        [[ 23,  21,  18],\n         [147, 149, 141],\n         [142, 150, 143],\n         ...,\n         [133, 137, 125],\n         [133, 137, 126],\n         [134, 138, 128]],\n\n        ...,\n\n        [[101, 113, 107],\n         [102, 112, 108],\n         [ 99, 111, 104],\n         ...,\n         [132, 139, 136],\n         [130, 135, 132],\n         [120, 125, 122]],\n\n        [[110, 117, 113],\n         [102, 110, 106],\n         [ 96, 107,  98],\n         ...,\n         [ 73,  74,  78],\n         [114, 119, 123],\n         [113, 115, 119]],\n\n        [[106, 113, 111],\n         [102, 110, 112],\n         [ 98, 107, 111],\n         ...,\n         [ 57,  66,  76],\n         [ 45,  53,  69],\n         [ 64,  71,  87]]]], dtype=uint8)"
     },
     "execution_count": 84,
     "metadata": {},
     "output_type": "execute_result"
    }
   ],
   "source": [
    "visages"
   ]
  },
  {
   "cell_type": "code",
   "execution_count": 85,
   "id": "a8436555",
   "metadata": {
    "ExecuteTime": {
     "end_time": "2024-02-29T14:28:26.629045Z",
     "start_time": "2024-02-29T14:28:26.614696Z"
    }
   },
   "outputs": [
    {
     "data": {
      "text/plain": "(60, 50, 50, 3)"
     },
     "execution_count": 85,
     "metadata": {},
     "output_type": "execute_result"
    }
   ],
   "source": [
    "visages.shape"
   ]
  },
  {
   "cell_type": "code",
   "execution_count": 86,
   "id": "1ef19a8e",
   "metadata": {
    "ExecuteTime": {
     "end_time": "2024-02-29T14:28:26.651229Z",
     "start_time": "2024-02-29T14:28:26.634692Z"
    }
   },
   "outputs": [
    {
     "data": {
      "text/plain": "(50, 50, 3)"
     },
     "execution_count": 86,
     "metadata": {},
     "output_type": "execute_result"
    }
   ],
   "source": [
    "sample_1 = visages[0]\n",
    "sample_1.shape"
   ]
  },
  {
   "cell_type": "code",
   "execution_count": 87,
   "id": "c3539263",
   "metadata": {
    "ExecuteTime": {
     "end_time": "2024-02-29T14:28:27.026706Z",
     "start_time": "2024-02-29T14:28:26.656666Z"
    }
   },
   "outputs": [
    {
     "data": {
      "text/plain": "<matplotlib.image.AxesImage at 0x1fbb2560ec0>"
     },
     "execution_count": 87,
     "metadata": {},
     "output_type": "execute_result"
    },
    {
     "data": {
      "text/plain": "<Figure size 640x480 with 1 Axes>",
      "image/png": "[encoded data removed]"
     },
     "metadata": {},
     "output_type": "display_data"
    }
   ],
   "source": [
    "plt.imshow(sample_1, interpolation=\"nearest\")"
   ]
  },
  {
   "cell_type": "code",
   "execution_count": 88,
   "id": "ac4aaef1",
   "metadata": {
    "ExecuteTime": {
     "end_time": "2024-02-29T14:28:27.037502Z",
     "start_time": "2024-02-29T14:28:27.029370Z"
    }
   },
   "outputs": [
    {
     "data": {
      "text/plain": "(50, 50, 3)"
     },
     "execution_count": 88,
     "metadata": {},
     "output_type": "execute_result"
    }
   ],
   "source": [
    "sample_2 = visages[5]\n",
    "sample_2.shape"
   ]
  },
  {
   "cell_type": "code",
   "execution_count": 89,
   "id": "ed489bfa",
   "metadata": {
    "ExecuteTime": {
     "end_time": "2024-02-29T14:28:27.278552Z",
     "start_time": "2024-02-29T14:28:27.041854Z"
    }
   },
   "outputs": [
    {
     "data": {
      "text/plain": "<matplotlib.image.AxesImage at 0x1fbb25b7ce0>"
     },
     "execution_count": 89,
     "metadata": {},
     "output_type": "execute_result"
    },
    {
     "data": {
      "text/plain": "<Figure size 640x480 with 1 Axes>",
      "image/png": "[encoded data removed]"
     },
     "metadata": {},
     "output_type": "display_data"
    }
   ],
   "source": [
    "plt.imshow(sample_2, interpolation=\"nearest\")"
   ]
  },
  {
   "cell_type": "code",
   "execution_count": 90,
   "id": "06a26147",
   "metadata": {
    "ExecuteTime": {
     "end_time": "2024-02-29T14:28:31.159413Z",
     "start_time": "2024-02-29T14:28:27.283091Z"
    }
   },
   "outputs": [],
   "source": [
    "import cv2\n",
    "\n",
    "# Chargement du classificateur de cascade pour la détection de visages\n",
    "cascade_visage = cv2.CascadeClassifier(cv2.data.haarcascades + 'haarcascade_frontalface_default.xml')\n",
    "\n",
    "# Charger une image à partir du disque\n",
    "image = cv2.imread('moi.png')\n",
    "\n",
    "# Convertir l'image en niveaux de gris\n",
    "gris = cv2.cvtColor(image, cv2.COLOR_BGR2GRAY)\n",
    "\n",
    "# Détecter les visages dans l'image\n",
    "coordonnees_visage = cascade_visage.detectMultiScale(gris, 1.3, 5)\n",
    "\n",
    "# Dessiner des rectangles autour des visages détectés\n",
    "for (x, y, w, h) in coordonnees_visage:\n",
    "    cv2.rectangle(image, (x, y), (x+w, y+h), (255, 0, 0), 2)\n",
    "\n",
    "# Afficher l'image avec les visages détectés\n",
    "cv2.imshow('Visages détectés', image)\n",
    "cv2.waitKey(0)\n",
    "cv2.destroyAllWindows()\n"
   ]
  },
  {
   "cell_type": "code",
   "outputs": [],
   "source": [],
   "metadata": {
    "collapsed": false,
    "ExecuteTime": {
     "end_time": "2024-02-29T14:28:31.167447Z",
     "start_time": "2024-02-29T14:28:31.162622Z"
    }
   },
   "id": "500ebf2854cb8a11",
   "execution_count": 90
  }
 ],
 "metadata": {
  "kernelspec": {
   "display_name": "Python 3 (ipykernel)",
   "language": "python",
   "name": "python3"
  },
  "language_info": {
   "codemirror_mode": {
    "name": "ipython",
    "version": 3
   },
   "file_extension": ".py",
   "mimetype": "text/x-python",
   "name": "python",
   "nbconvert_exporter": "python",
   "pygments_lexer": "ipython3",
   "version": "3.12.2"
  }
 },
 "nbformat": 4,
 "nbformat_minor": 5
}
