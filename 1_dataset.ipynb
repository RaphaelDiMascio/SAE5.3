{
 "cells": [
  {
   "cell_type": "markdown",
   "id": "0a361880",
   "metadata": {},
   "source": [
    "# Reconnaissance faciale via $k$ plus proches voisins ($k$-NN)\n",
    "\n",
    ">## Partie 1: Dataset"
   ]
  },
  {
   "cell_type": "markdown",
   "id": "9a9f35df",
   "metadata": {},
   "source": [
    "## Librairies"
   ]
  },
  {
   "cell_type": "markdown",
   "id": "d691df55",
   "metadata": {},
   "source": [
    "- La librairie `cv2` permet la détection automatique de visages, entre autres.\n",
    "\n",
    "- La librairie `pickle` permet de sauvegarder vos modèles une fois entraînés, et de les recharger pour pouvoir les utiliser."
   ]
  },
  {
   "cell_type": "code",
   "execution_count": 3,
   "id": "8a41298c",
   "metadata": {
    "ExecuteTime": {
     "end_time": "2024-02-29T11:30:07.029412Z",
     "start_time": "2024-02-29T11:29:58.277534Z"
    }
   },
   "outputs": [
    {
     "name": "stderr",
     "output_type": "stream",
     "text": [
      "Matplotlib is building the font cache; this may take a moment.\n"
     ]
    }
   ],
   "source": [
    "import os\n",
    "\n",
    "import cv2\n",
    "import pickle\n",
    "\n",
    "import numpy as np\n",
    "\n",
    "import matplotlib.pyplot as plt"
   ]
  },
  {
   "cell_type": "markdown",
   "id": "2089bbe3",
   "metadata": {},
   "source": [
    "## Création du dataset"
   ]
  },
  {
   "cell_type": "markdown",
   "id": "b0183880",
   "metadata": {},
   "source": [
    "Le code suivant permet de créer un **dataset** d'images que vous utiliserez dans votre projet de **reconnaissance faciale**. Ce dataset contiendra des images de vous-même associées à votre nom ainsi que des images d'autres personnes (par exemple vos camarades) associées à leurs noms. **À chaque fois que vos relancez le code ci-dessous, votre caméra capture 10 images de la personne qui se trouve devant vootre PC et ajoute ces dernières à votre dataset.** \n",
    "\n",
    "Le code effectue les opérations suivantes. Premièrement, on lit le flux vidéo de votre caméra et on détecte automatiquement les visages dans chaque image de ce flux en utilisant le **classificateur en cascade de Haar (Haar cascade classifier)** de la librairie `OpenCV`. \n",
    "\n",
    "Plus précisément, tant que la variable `ret` est vraie, indiquant que le flux vidéo est lu correctement, pour chaque image capturée par la caméras, on effectue les opérations suivantes:\n",
    "1. on convertit l'image en niveaux de gris;\n",
    "2. on détecte les coordonnées du visage en utilisant le classificateur en cascade de Haar;\n",
    "3. on recadre la région du visage et la redimensionne en $50 \\times 50$ pixels;\n",
    "4. on ajoute l'image du visage redimensionné à la liste `donnees_visage`, à chaque intervalle de $10$ images.\n",
    "\n",
    "Une fois que $10$ images de votre visage ont été collecteés, ou si l'utilisateur appuye sur la touche `Esc`, on met fin à la boucle et enregistre les images dans la liste `donnees_visage` sous forme d'un tableau `NumPy`.\n",
    "\n",
    "Par la suite, l'existence des fichiers `noms.pkl` et `visages.pkl` est vérifiée. S'ils n'existent pas, de nouveaux fichiers sont créés, la variable `nom` est enregistrée dans `noms.pkl` et les données de visage sont enregistrées dans `visages.pkl`. Si ces fichiers existent déjà, le code charge les données existantes, ajoute les nouvelles données de visage et noms, et les réenregistre le tout dans ces fichiers."
   ]
  },
  {
   "cell_type": "code",
   "execution_count": 14,
   "id": "1ba3a98f",
   "metadata": {
    "ExecuteTime": {
     "end_time": "2024-02-29T11:34:30.859607Z",
     "start_time": "2024-02-29T11:34:14.718729Z"
    }
   },
   "outputs": [
    {
     "name": "stdout",
     "output_type": "stream",
     "text": [
      "Le classificateur de cascade a été chargé avec succès.\n"
     ]
    }
   ],
   "source": [
    "# ================== #\n",
    "# Variables globales #\n",
    "# ================== #\n",
    "if not os.path.exists(\"data\"):\n",
    "    os.mkdir(\"data\")         # création d'un répertoire data\n",
    "\n",
    "nb_images_collectees = 10    # nombre d'image que vous voulez collecter\n",
    "\n",
    "donnees_visage = []\n",
    "\n",
    "camera = cv2.VideoCapture(0) # 0 pour 'built-in' caméra, 1 pour caméra externe\n",
    "\n",
    "cascade_visage = cv2.CascadeClassifier(cv2.data.haarcascades + 'haarcascade_frontalface_default.xml')\n",
    "\n",
    "# Assurez-vous que le classificateur de cascade des yeux est chargé correctement\n",
    "if cascade_visage.empty():\n",
    "    print(\"Erreur: Le classificateur de cascade n'a pas été chargé correctement.\")\n",
    "else:\n",
    "    print(\"Le classificateur de cascade a été chargé avec succès.\")\n",
    "\n",
    "\n",
    "# =============================== #\n",
    "# Capture des data: nom et images #\n",
    "# =============================== #\n",
    "nom = input(\"Entrez votre nom: \")\n",
    "\n",
    "ret = True\n",
    "i = 0\n",
    "\n",
    "while(ret):\n",
    "    \n",
    "    ret, frame = camera.read()\n",
    "    \n",
    "    if ret == True:\n",
    "        \n",
    "        gris = cv2.cvtColor(frame, cv2.COLOR_BGR2GRAY)\n",
    "\n",
    "        coordonnees_visage = cascade_visage.detectMultiScale(gris, 1.3, 4)\n",
    "\n",
    "        for (a, b, w, h) in coordonnees_visage:\n",
    "            \n",
    "            visages = frame[b:b+h, a:a+w, :]\n",
    "            visages_redimensionnes = cv2.resize(visages, (50, 50))\n",
    "            \n",
    "            if i % 10 == 0 and len(donnees_visage) < nb_images_collectees:\n",
    "                \n",
    "                donnees_visage.append(visages_redimensionnes)\n",
    "                \n",
    "            cv2.rectangle(frame, (a, b), (a+w, b+h), (255, 0, 0), 2)\n",
    "            \n",
    "        i += 1\n",
    "\n",
    "        cv2.imshow('Visages', frame)\n",
    "\n",
    "        if cv2.waitKey(1) == 27 or len(donnees_visage) >= nb_images_collectees:\n",
    "            \n",
    "            break\n",
    "    else:\n",
    "        \n",
    "        print('erreur')\n",
    "        break\n",
    "    \n",
    "\n",
    "cv2.destroyAllWindows()\n",
    "camera.release()\n",
    "\n",
    "donnees_visage = np.asarray(donnees_visage)\n",
    "# donnees_visage = donnees_visage.reshape(10, -1)\n",
    "\n",
    "\n",
    "# ====================================== #\n",
    "# Enregistrement des data: nom et images #\n",
    "# ====================================== #\n",
    "if 'noms.pkl' not in os.listdir('data/'):\n",
    "    \n",
    "    noms = [nom]*10\n",
    "    with open('data/noms.pkl', 'wb') as file:\n",
    "        pickle.dump(noms, file)\n",
    "else:\n",
    "    \n",
    "    with open('data/noms.pkl', 'rb') as file:\n",
    "        noms = pickle.load(file)\n",
    "\n",
    "    noms = noms + [nom]*10\n",
    "    with open('data/noms.pkl', 'wb') as file:\n",
    "        pickle.dump(noms, file)\n",
    "\n",
    "\n",
    "if 'visages.pkl' not in os.listdir('data/'):\n",
    "    \n",
    "    with open('data/visages.pkl', 'wb') as w:\n",
    "        pickle.dump(donnees_visage, w)\n",
    "else:\n",
    "    \n",
    "    with open('data/visages.pkl', 'rb') as w:\n",
    "        visages = pickle.load(w)\n",
    "\n",
    "    visages = np.append(visages, donnees_visage, axis=0)\n",
    "    with open('data/visages.pkl', 'wb') as w:\n",
    "        pickle.dump(visages, w)"
   ]
  },
  {
   "cell_type": "markdown",
   "id": "e3bec3e0",
   "metadata": {},
   "source": [
    "## Visualisation du dataset"
   ]
  },
  {
   "cell_type": "markdown",
   "id": "08df3d2c",
   "metadata": {},
   "source": [
    "Le instructions suivantes permettent de loader votre dataset et de comprendre comment sont stockées les data.\n",
    "\n",
    "Prêtez attention aux types de vos data, en particulier à la dimension de vos images, etc."
   ]
  },
  {
   "cell_type": "code",
   "execution_count": 15,
   "id": "c4c5cd3d",
   "metadata": {
    "ExecuteTime": {
     "end_time": "2024-02-29T11:34:41.241403Z",
     "start_time": "2024-02-29T11:34:41.227456Z"
    }
   },
   "outputs": [],
   "source": [
    "with open(\"data/noms.pkl\", \"rb\") as fh:\n",
    "    noms = pickle.load(fh)"
   ]
  },
  {
   "cell_type": "code",
   "execution_count": 16,
   "id": "b3af5a29",
   "metadata": {
    "ExecuteTime": {
     "end_time": "2024-02-29T11:34:45.264341Z",
     "start_time": "2024-02-29T11:34:45.252737Z"
    }
   },
   "outputs": [
    {
     "data": {
      "text/plain": "['Hugo',\n 'Hugo',\n 'Hugo',\n 'Hugo',\n 'Hugo',\n 'Hugo',\n 'Hugo',\n 'Hugo',\n 'Hugo',\n 'Hugo',\n 'Robin',\n 'Robin',\n 'Robin',\n 'Robin',\n 'Robin',\n 'Robin',\n 'Robin',\n 'Robin',\n 'Robin',\n 'Robin']"
     },
     "execution_count": 16,
     "metadata": {},
     "output_type": "execute_result"
    }
   ],
   "source": [
    "noms"
   ]
  },
  {
   "cell_type": "code",
   "execution_count": 7,
   "id": "d7fc242c",
   "metadata": {
    "ExecuteTime": {
     "end_time": "2024-02-29T11:31:04.122992Z",
     "start_time": "2024-02-29T11:31:04.114019Z"
    }
   },
   "outputs": [],
   "source": [
    "with open(\"data/visages.pkl\", \"rb\") as fh:\n",
    "    visages = pickle.load(fh)"
   ]
  },
  {
   "cell_type": "code",
   "execution_count": 8,
   "id": "10dab6d3",
   "metadata": {
    "ExecuteTime": {
     "end_time": "2024-02-29T09:54:29.824836Z",
     "start_time": "2024-02-29T09:54:29.811247Z"
    }
   },
   "outputs": [
    {
     "data": {
      "text/plain": "array([[[[255, 254, 255],\n         [255, 254, 255],\n         [255, 253, 255],\n         ...,\n         [255, 254, 255],\n         [255, 254, 255],\n         [255, 254, 255]],\n\n        [[255, 254, 255],\n         [255, 254, 255],\n         [255, 255, 255],\n         ...,\n         [255, 254, 255],\n         [255, 254, 255],\n         [255, 254, 255]],\n\n        [[255, 254, 255],\n         [255, 254, 255],\n         [255, 255, 252],\n         ...,\n         [255, 254, 255],\n         [255, 254, 255],\n         [255, 254, 255]],\n\n        ...,\n\n        [[156, 195, 243],\n         [152, 193, 235],\n         [156, 194, 237],\n         ...,\n         [254, 254, 255],\n         [255, 254, 255],\n         [255, 254, 255]],\n\n        [[157, 196, 251],\n         [153, 192, 244],\n         [152, 192, 240],\n         ...,\n         [255, 254, 254],\n         [253, 252, 254],\n         [255, 254, 255]],\n\n        [[140, 189, 229],\n         [134, 150, 202],\n         [125, 167, 200],\n         ...,\n         [173, 165, 149],\n         [255, 255, 248],\n         [255, 252, 255]]],\n\n\n       [[[249, 252, 253],\n         [249, 253, 254],\n         [250, 254, 255],\n         ...,\n         [156, 203, 254],\n         [154, 202, 250],\n         [152, 202, 250]],\n\n        [[248, 253, 254],\n         [250, 254, 255],\n         [251, 254, 255],\n         ...,\n         [157, 203, 253],\n         [157, 201, 252],\n         [155, 202, 251]],\n\n        [[248, 253, 254],\n         [250, 254, 255],\n         [251, 254, 255],\n         ...,\n         [155, 203, 255],\n         [156, 203, 254],\n         [155, 202, 251]],\n\n        ...,\n\n        [[172, 208, 255],\n         [170, 206, 254],\n         [168, 204, 252],\n         ...,\n         [255, 254, 255],\n         [255, 254, 255],\n         [255, 254, 255]],\n\n        [[167, 201, 248],\n         [165, 200, 244],\n         [165, 198, 244],\n         ...,\n         [255, 254, 255],\n         [255, 254, 255],\n         [255, 254, 255]],\n\n        [[161, 194, 230],\n         [161, 192, 233],\n         [159, 192, 234],\n         ...,\n         [255, 254, 255],\n         [255, 254, 255],\n         [255, 254, 255]]],\n\n\n       [[[255, 254, 255],\n         [255, 254, 255],\n         [255, 254, 255],\n         ...,\n         [255, 254, 255],\n         [255, 254, 255],\n         [255, 254, 255]],\n\n        [[255, 254, 255],\n         [255, 254, 255],\n         [255, 254, 255],\n         ...,\n         [255, 254, 255],\n         [255, 254, 255],\n         [255, 254, 255]],\n\n        [[255, 254, 255],\n         [255, 254, 255],\n         [255, 253, 255],\n         ...,\n         [255, 254, 255],\n         [255, 254, 255],\n         [255, 254, 255]],\n\n        ...,\n\n        [[173, 196, 228],\n         [172, 194, 223],\n         [169, 194, 224],\n         ...,\n         [255, 254, 255],\n         [255, 254, 255],\n         [255, 254, 255]],\n\n        [[169, 201, 231],\n         [168, 196, 230],\n         [162, 195, 227],\n         ...,\n         [255, 254, 255],\n         [255, 253, 255],\n         [255, 254, 255]],\n\n        [[171, 204, 242],\n         [164, 202, 235],\n         [166, 196, 235],\n         ...,\n         [238, 231, 225],\n         [255, 255, 253],\n         [255, 254, 255]]],\n\n\n       ...,\n\n\n       [[[255, 242, 210],\n         [255, 242, 210],\n         [255, 243, 211],\n         ...,\n         [176, 194, 207],\n         [176, 192, 205],\n         [175, 190, 203]],\n\n        [[255, 244, 215],\n         [255, 245, 215],\n         [255, 245, 213],\n         ...,\n         [175, 195, 206],\n         [175, 194, 204],\n         [175, 195, 203]],\n\n        [[254, 246, 217],\n         [255, 248, 219],\n         [255, 247, 216],\n         ...,\n         [177, 194, 208],\n         [177, 193, 208],\n         [178, 192, 204]],\n\n        ...,\n\n        [[201, 200, 204],\n         [198, 197, 201],\n         [196, 195, 199],\n         ...,\n         [255, 254, 255],\n         [255, 254, 255],\n         [255, 254, 255]],\n\n        [[210, 209, 213],\n         [206, 205, 209],\n         [204, 203, 207],\n         ...,\n         [255, 254, 255],\n         [255, 254, 255],\n         [255, 254, 255]],\n\n        [[217, 217, 222],\n         [215, 214, 217],\n         [209, 208, 212],\n         ...,\n         [255, 254, 255],\n         [255, 254, 255],\n         [255, 254, 255]]],\n\n\n       [[[255, 254, 255],\n         [255, 254, 255],\n         [255, 254, 255],\n         ...,\n         [200, 205, 213],\n         [199, 204, 212],\n         [199, 205, 211]],\n\n        [[255, 254, 255],\n         [255, 254, 255],\n         [255, 254, 255],\n         ...,\n         [211, 212, 215],\n         [204, 206, 209],\n         [205, 206, 209]],\n\n        [[255, 254, 255],\n         [255, 254, 255],\n         [255, 254, 255],\n         ...,\n         [221, 213, 209],\n         [217, 213, 211],\n         [211, 212, 216]],\n\n        ...,\n\n        [[ 83, 102,  81],\n         [ 72,  93,  72],\n         [ 65,  92,  71],\n         ...,\n         [255, 253, 255],\n         [255, 255, 251],\n         [255, 253, 255]],\n\n        [[ 70,  93,  71],\n         [ 65,  88,  67],\n         [ 64,  86,  66],\n         ...,\n         [255, 253, 249],\n         [255, 255, 254],\n         [255, 254, 255]],\n\n        [[ 69,  91,  69],\n         [ 67,  87,  67],\n         [ 61,  80,  61],\n         ...,\n         [255, 242, 202],\n         [251, 253, 254],\n         [254, 253, 255]]],\n\n\n       [[[255, 255, 253],\n         [255, 255, 255],\n         [255, 254, 255],\n         ...,\n         [174, 163, 136],\n         [255, 255, 241],\n         [243, 238, 226]],\n\n        [[255, 254, 255],\n         [255, 254, 255],\n         [255, 254, 255],\n         ...,\n         [151, 123, 103],\n         [255, 255, 231],\n         [255, 255, 252]],\n\n        [[255, 254, 255],\n         [255, 254, 255],\n         [255, 254, 255],\n         ...,\n         [104,  88,  68],\n         [238, 223, 183],\n         [255, 255, 250]],\n\n        ...,\n\n        [[139, 158, 147],\n         [128, 153, 134],\n         [101, 126, 104],\n         ...,\n         [ 96,  83,  44],\n         [107,  92,  47],\n         [163, 135,  74]],\n\n        [[134, 160, 140],\n         [105, 128, 111],\n         [ 95, 120, 103],\n         ...,\n         [ 93,  78,  43],\n         [107,  93,  55],\n         [159, 127,  66]],\n\n        [[104, 133, 116],\n         [ 96, 123, 104],\n         [ 91, 114,  96],\n         ...,\n         [ 86,  75,  45],\n         [114,  90,  50],\n         [161, 129,  70]]]], dtype=uint8)"
     },
     "execution_count": 8,
     "metadata": {},
     "output_type": "execute_result"
    }
   ],
   "source": [
    "visages"
   ]
  },
  {
   "cell_type": "code",
   "execution_count": 8,
   "id": "a8436555",
   "metadata": {
    "ExecuteTime": {
     "end_time": "2024-02-29T11:31:08.039522Z",
     "start_time": "2024-02-29T11:31:08.030750Z"
    }
   },
   "outputs": [
    {
     "data": {
      "text/plain": "(10, 50, 50, 3)"
     },
     "execution_count": 8,
     "metadata": {},
     "output_type": "execute_result"
    }
   ],
   "source": [
    "visages.shape"
   ]
  },
  {
   "cell_type": "code",
   "execution_count": 9,
   "id": "1ef19a8e",
   "metadata": {
    "ExecuteTime": {
     "end_time": "2024-02-29T11:31:11.259931Z",
     "start_time": "2024-02-29T11:31:11.239645Z"
    }
   },
   "outputs": [
    {
     "data": {
      "text/plain": "(50, 50, 3)"
     },
     "execution_count": 9,
     "metadata": {},
     "output_type": "execute_result"
    }
   ],
   "source": [
    "sample_1 = visages[0]\n",
    "sample_1.shape"
   ]
  },
  {
   "cell_type": "code",
   "execution_count": 10,
   "id": "c3539263",
   "metadata": {
    "ExecuteTime": {
     "end_time": "2024-02-29T11:31:15.978694Z",
     "start_time": "2024-02-29T11:31:15.035656Z"
    }
   },
   "outputs": [
    {
     "data": {
      "text/plain": "<matplotlib.image.AxesImage at 0x1fbae0103b0>"
     },
     "execution_count": 10,
     "metadata": {},
     "output_type": "execute_result"
    },
    {
     "data": {
      "text/plain": "<Figure size 640x480 with 1 Axes>",
      "image/png": "[encoded data removed]"
     },
     "metadata": {},
     "output_type": "display_data"
    }
   ],
   "source": [
    "plt.imshow(sample_1, interpolation=\"nearest\")"
   ]
  },
  {
   "cell_type": "code",
   "execution_count": 11,
   "id": "ac4aaef1",
   "metadata": {
    "ExecuteTime": {
     "end_time": "2024-02-29T11:31:19.170735Z",
     "start_time": "2024-02-29T11:31:19.159332Z"
    }
   },
   "outputs": [
    {
     "data": {
      "text/plain": "(50, 50, 3)"
     },
     "execution_count": 11,
     "metadata": {},
     "output_type": "execute_result"
    }
   ],
   "source": [
    "sample_2 = visages[5]\n",
    "sample_2.shape"
   ]
  },
  {
   "cell_type": "code",
   "execution_count": 12,
   "id": "ed489bfa",
   "metadata": {
    "ExecuteTime": {
     "end_time": "2024-02-29T11:31:24.927213Z",
     "start_time": "2024-02-29T11:31:24.678995Z"
    }
   },
   "outputs": [
    {
     "data": {
      "text/plain": "<matplotlib.image.AxesImage at 0x1fbae174bf0>"
     },
     "execution_count": 12,
     "metadata": {},
     "output_type": "execute_result"
    },
    {
     "data": {
      "text/plain": "<Figure size 640x480 with 1 Axes>",
      "image/png": "[encoded data removed]"
     },
     "metadata": {},
     "output_type": "display_data"
    }
   ],
   "source": [
    "plt.imshow(sample_2, interpolation=\"nearest\")"
   ]
  },
  {
   "cell_type": "code",
   "execution_count": 13,
   "id": "06a26147",
   "metadata": {
    "ExecuteTime": {
     "end_time": "2024-02-29T11:31:49.992243Z",
     "start_time": "2024-02-29T11:31:44.867779Z"
    }
   },
   "outputs": [],
   "source": [
    "import cv2\n",
    "\n",
    "# Chargement du classificateur de cascade pour la détection de visages\n",
    "cascade_visage = cv2.CascadeClassifier(cv2.data.haarcascades + 'haarcascade_frontalface_default.xml')\n",
    "\n",
    "# Charger une image à partir du disque\n",
    "image = cv2.imread('moi.png')\n",
    "\n",
    "# Convertir l'image en niveaux de gris\n",
    "gris = cv2.cvtColor(image, cv2.COLOR_BGR2GRAY)\n",
    "\n",
    "# Détecter les visages dans l'image\n",
    "coordonnees_visage = cascade_visage.detectMultiScale(gris, 1.3, 5)\n",
    "\n",
    "# Dessiner des rectangles autour des visages détectés\n",
    "for (x, y, w, h) in coordonnees_visage:\n",
    "    cv2.rectangle(image, (x, y), (x+w, y+h), (255, 0, 0), 2)\n",
    "\n",
    "# Afficher l'image avec les visages détectés\n",
    "cv2.imshow('Visages détectés', image)\n",
    "cv2.waitKey(0)\n",
    "cv2.destroyAllWindows()\n"
   ]
  },
  {
   "cell_type": "code",
   "outputs": [],
   "source": [],
   "metadata": {
    "collapsed": false
   },
   "id": "500ebf2854cb8a11"
  }
 ],
 "metadata": {
  "kernelspec": {
   "display_name": "Python 3 (ipykernel)",
   "language": "python",
   "name": "python3"
  },
  "language_info": {
   "codemirror_mode": {
    "name": "ipython",
    "version": 3
   },
   "file_extension": ".py",
   "mimetype": "text/x-python",
   "name": "python",
   "nbconvert_exporter": "python",
   "pygments_lexer": "ipython3",
   "version": "3.12.2"
  }
 },
 "nbformat": 4,
 "nbformat_minor": 5
}
