{
 "cells": [
  {
   "cell_type": "markdown",
   "source": [
    "## Librairies"
   ],
   "metadata": {
    "collapsed": false
   },
   "id": "b6b395b353badfad"
  },
  {
   "cell_type": "code",
   "outputs": [],
   "source": [
    "import pickle\n",
    "import cv2\n",
    "import numpy as np\n",
    "import matplotlib.pyplot as plt\n",
    "from sklearn.cluster import KMeans"
   ],
   "metadata": {
    "collapsed": true
   },
   "id": "initial_id",
   "execution_count": null
  },
  {
   "cell_type": "markdown",
   "source": [
    "## Algorithme"
   ],
   "metadata": {
    "collapsed": false
   },
   "id": "2ea2c3cbd6abbc5c"
  },
  {
   "cell_type": "code",
   "outputs": [],
   "source": [
    "# on choisi ici le visage admis\n",
    "nom_visage_admis = \"Raphael\""
   ],
   "metadata": {
    "collapsed": false
   },
   "id": "5b0f6e3dc01d3801",
   "execution_count": null
  },
  {
   "cell_type": "code",
   "outputs": [],
   "source": [
    "with open('../data/noms.pkl', 'rb') as fh:\n",
    "    noms = pickle.load(fh)\n",
    "    \n",
    "with open('../data/visages.pkl', 'rb') as fh:\n",
    "    visages = pickle.load(fh)\n",
    "\n",
    "print('Shape of visages matrix --> ', visages.shape)\n",
    "\n",
    "# parcours de la liste \"noms\" pour sélectionner le visage de la personne admise uniquement\n",
    "visages_admis = []\n",
    "N = 0\n",
    "for i, nom in enumerate(noms):\n",
    "    if nom == nom_visage_admis:\n",
    "        N += 1\n",
    "        visages_admis.append(visages[i])\n",
    "        \n",
    "visages_admis = np.array(visages_admis)\n",
    "print(visages_admis.shape)"
   ],
   "metadata": {
    "collapsed": false
   },
   "id": "636a9486793832c8",
   "execution_count": null
  },
  {
   "cell_type": "code",
   "outputs": [],
   "source": [
    "visages_admis = visages_admis.reshape(N, -1)\n",
    "\n",
    "kmeans = KMeans(n_clusters = 2)\n",
    "kmeans.fit(visages_admis)"
   ],
   "metadata": {
    "collapsed": false
   },
   "id": "ffad47b4a95b6bad",
   "execution_count": null
  },
  {
   "cell_type": "markdown",
   "source": [
    "## Exécution"
   ],
   "metadata": {
    "collapsed": false
   },
   "id": "1cf034cdd976351a"
  },
  {
   "cell_type": "code",
   "outputs": [],
   "source": [
    "cascade_visage = cv2.CascadeClassifier(cv2.data.haarcascades + 'haarcascade_frontalface_default.xml')\n",
    "\n",
    "camera = cv2.VideoCapture(0) # 0 pour 'built-in' caméra, 1 pour caméra externe\n",
    "\n",
    "bal = 0 # Balise permettant de mettre fin au programme une fois le visage souhaité détecté\n",
    "tmp = 0 # nombre de frame (grossièrement le 'temps') devant détecté le visage souhaité pour considérer que l'on est \"Admis\" \n",
    "\n",
    "while True:    \n",
    "    ret, trame = camera.read()\n",
    "    if ret == True:\n",
    "        gris = cv2.cvtColor(trame, cv2.COLOR_BGR2GRAY)\n",
    "        coordonnees_visage = cascade_visage.detectMultiScale(gris, 1.3, 5)\n",
    "\n",
    "        for (x, y, l, h) in coordonnees_visage:\n",
    "            \n",
    "            visage = trame[y:y + h, x:x + l, :]\n",
    "            visage_redimensionne = cv2.resize(visage, (50, 50)).flatten().reshape(1,-1)\n",
    "            \n",
    "            texte = kmeans.predict(visage_redimensionne)\n",
    "            \n",
    "            #cv2.putText(trame, texte[0], (x, y-10), cv2.FONT_HERSHEY_SIMPLEX, 1, (255, 255, 0), 2)\n",
    "            cv2.rectangle(trame, (x, y), (x + l, y + l), (0, 0, 255), 2)\n",
    "            \n",
    "            #print(tmp)\n",
    "            if texte[0] == 1 and tmp == 40:\n",
    "                cv2.putText(trame, \"Admis\", (x, y-10), cv2.FONT_HERSHEY_SIMPLEX, 1, (255, 255, 0), 2)\n",
    "                #kmeans.sleep(2.0)\n",
    "                print(\"Admis\")\n",
    "                #bal = 1\n",
    "                break\n",
    "            elif texte[0] == 1:\n",
    "                cv2.putText(trame, \"Admis\", (x, y-10), cv2.FONT_HERSHEY_SIMPLEX, 1, (255, 255, 0), 2)\n",
    "                tmp += 1\n",
    "            else:\n",
    "                cv2.putText(trame, \"Non Admis\", (x, y-10), cv2.FONT_HERSHEY_SIMPLEX, 1, (255, 255, 0), 2)\n",
    "                tmp = 0\n",
    "\n",
    "        cv2.imshow('Reconnaissance faciale en temps réel', trame)\n",
    "        \n",
    "        if cv2.waitKey(1) == 27 or bal == 1:\n",
    "            break\n",
    "            \n",
    "    else:\n",
    "        print(\"erreur\")\n",
    "        break\n",
    "\n",
    "cv2.destroyAllWindows()\n",
    "camera.release()\n"
   ],
   "metadata": {
    "collapsed": false
   },
   "id": "ac8394f986fe419c",
   "execution_count": null
  },
  {
   "cell_type": "markdown",
   "source": [
    "## Visualisation des centroides"
   ],
   "metadata": {
    "collapsed": false
   },
   "id": "b90d9f3574b25337"
  },
  {
   "cell_type": "code",
   "outputs": [],
   "source": [
    "centers = kmeans.cluster_centers_\n",
    "plt.scatter(centers[:, 0], centers[:, 1], marker='x', c='red', label='centroides')\n",
    "plt.legend()\n",
    "plt.show()"
   ],
   "metadata": {
    "collapsed": false
   },
   "id": "37937c03b974d41b",
   "execution_count": null
  },
  {
   "cell_type": "code",
   "outputs": [],
   "source": [],
   "metadata": {
    "collapsed": false
   },
   "id": "afc9f069162ec5b2",
   "execution_count": null
  }
 ],
 "metadata": {
  "kernelspec": {
   "display_name": "Python 3",
   "language": "python",
   "name": "python3"
  },
  "language_info": {
   "codemirror_mode": {
    "name": "ipython",
    "version": 2
   },
   "file_extension": ".py",
   "mimetype": "text/x-python",
   "name": "python",
   "nbconvert_exporter": "python",
   "pygments_lexer": "ipython2",
   "version": "2.7.6"
  }
 },
 "nbformat": 4,
 "nbformat_minor": 5
}
