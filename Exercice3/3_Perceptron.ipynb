{
 "cells": [
  {
   "cell_type": "markdown",
   "source": [
    "## Librairies"
   ],
   "metadata": {
    "collapsed": false
   },
   "id": "3e72ab4c688b158b"
  },
  {
   "cell_type": "code",
   "outputs": [],
   "source": [
    "import pickle\n",
    "import cv2\n",
    "from sklearn.linear_model import Perceptron\n",
    "from sklearn.utils import shuffle\n",
    "import time"
   ],
   "metadata": {
    "collapsed": true
   },
   "id": "initial_id",
   "execution_count": null
  },
  {
   "cell_type": "markdown",
   "source": [
    "## Algorithme"
   ],
   "metadata": {
    "collapsed": false
   },
   "id": "24fceaaf1b3b9c40"
  },
  {
   "cell_type": "code",
   "outputs": [],
   "source": [
    "with open('../data/visages.pkl', 'rb') as fh:\n",
    "    visages = pickle.load(fh)\n",
    "\n",
    "with open('../data/noms.pkl', 'rb') as fh:\n",
    "    noms = pickle.load(fh)\n",
    "\n",
    "print('Shape of visages matrix --> ', visages.shape)\n"
   ],
   "metadata": {
    "collapsed": false
   },
   "id": "ba33a7210cd4bda6",
   "execution_count": null
  },
  {
   "cell_type": "code",
   "outputs": [],
   "source": [
    "N = len(noms)\n",
    "visages = visages.reshape(N, -1)\n",
    "\n",
    "visages = shuffle(visages, random_state = 42)\n",
    "noms = shuffle(noms, random_state = 42)\n",
    "\n",
    "Perceptron = Perceptron()\n",
    "Perceptron.fit(visages, noms)"
   ],
   "metadata": {
    "collapsed": false
   },
   "id": "a6b323a09359e465",
   "execution_count": null
  },
  {
   "cell_type": "markdown",
   "source": [
    "## Exécution"
   ],
   "metadata": {
    "collapsed": false
   },
   "id": "4754800eb3efad0b"
  },
  {
   "cell_type": "code",
   "outputs": [],
   "source": [
    "cascade_visage = cv2.CascadeClassifier(cv2.data.haarcascades + 'haarcascade_frontalface_default.xml')\n",
    "\n",
    "camera = cv2.VideoCapture(0) # 0 pour 'built-in' caméra, 1 pour caméra externe\n",
    "\n",
    "visage_admis = \"Raphael\" # Label du visage admis souhaité\n",
    "bal = 0 # Balise permettant de mettre fin au programme une fois le visage souhaité détecté\n",
    "tmp = 0 # nombre de frame (grossièrement le 'temps') devant détecté le visage souhaité pour considérer que l'on est \"Admis\" \n",
    "\n",
    "while True:\n",
    "    ret, trame = camera.read()\n",
    "    if ret == True:\n",
    "        gris = cv2.cvtColor(trame, cv2.COLOR_BGR2GRAY)\n",
    "        coordonnees_visage = cascade_visage.detectMultiScale(gris, 1.3, 5)\n",
    "\n",
    "        for (x, y, l, h) in coordonnees_visage:\n",
    "            \n",
    "            visage = trame[y:y + h, x:x + l, :]\n",
    "            visage_redimensionne = cv2.resize(visage, (50, 50)).flatten().reshape(1,-1)\n",
    "            \n",
    "            texte = Perceptron.predict(visage_redimensionne)\n",
    "            \n",
    "            #cv2.putText(trame, texte[0], (x, y-10), cv2.FONT_HERSHEY_SIMPLEX, 1, (255, 255, 0), 2)\n",
    "            cv2.rectangle(trame, (x, y), (x + l, y + l), (0, 0, 255), 2)\n",
    "            \n",
    "            #print(tmp)\n",
    "            if texte[0] == visage_admis and tmp == 40:\n",
    "                cv2.putText(trame, \"Admis\", (x, y-10), cv2.FONT_HERSHEY_SIMPLEX, 1, (255, 255, 0), 2)\n",
    "                time.sleep(2.0)\n",
    "                print(\"Admis\")\n",
    "                bal = 1\n",
    "                break\n",
    "            elif texte[0] == visage_admis:\n",
    "                cv2.putText(trame, \"Admis\", (x, y-10), cv2.FONT_HERSHEY_SIMPLEX, 1, (255, 255, 0), 2)\n",
    "                tmp += 1\n",
    "            else:\n",
    "                cv2.putText(trame, \"Non Admis\", (x, y-10), cv2.FONT_HERSHEY_SIMPLEX, 1, (255, 255, 0), 2)\n",
    "                tmp = 0\n",
    "\n",
    "        cv2.imshow('Reconnaissance faciale en temps réel', trame)\n",
    "        \n",
    "        if cv2.waitKey(1) == 27 or bal == 1:\n",
    "            break\n",
    "            \n",
    "    else:\n",
    "        print(\"erreur\")\n",
    "        break\n",
    "\n",
    "cv2.destroyAllWindows()\n",
    "camera.release()"
   ],
   "metadata": {
    "collapsed": false
   },
   "id": "96f65b16aefcfae8",
   "execution_count": null
  },
  {
   "cell_type": "code",
   "outputs": [],
   "source": [],
   "metadata": {
    "collapsed": false
   },
   "id": "356efb165877512f",
   "execution_count": null
  }
 ],
 "metadata": {
  "kernelspec": {
   "display_name": "Python 3",
   "language": "python",
   "name": "python3"
  },
  "language_info": {
   "codemirror_mode": {
    "name": "ipython",
    "version": 2
   },
   "file_extension": ".py",
   "mimetype": "text/x-python",
   "name": "python",
   "nbconvert_exporter": "python",
   "pygments_lexer": "ipython2",
   "version": "2.7.6"
  }
 },
 "nbformat": 4,
 "nbformat_minor": 5
}
